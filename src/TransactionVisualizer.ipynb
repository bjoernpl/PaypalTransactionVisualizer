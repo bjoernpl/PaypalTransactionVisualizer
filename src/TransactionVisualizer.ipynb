{
 "cells": [
  {
   "cell_type": "markdown",
   "metadata": {
    "collapsed": true,
    "pycharm": {
     "is_executing": false,
     "name": "#%% md\n"
    }
   },
   "source": [
    "<!---\n",
    "MIT License\n",
    "\n",
    "Copyright (c) 2020 Björn Plüster\n",
    "\n",
    "Permission is hereby granted, free of charge, to any person obtaining a copy\n",
    "of this software and associated documentation files (the \"Software\"), to deal\n",
    "in the Software without restriction, including without limitation the rights\n",
    "to use, copy, modify, merge, publish, distribute, sublicense, and/or sell\n",
    "copies of the Software, and to permit persons to whom the Software is\n",
    "furnished to do so, subject to the following conditions:\n",
    "\n",
    "The above copyright notice and this permission notice shall be included in all\n",
    "copies or substantial portions of the Software.\n",
    "\n",
    "THE SOFTWARE IS PROVIDED \"AS IS\", WITHOUT WARRANTY OF ANY KIND, EXPRESS OR\n",
    "IMPLIED, INCLUDING BUT NOT LIMITED TO THE WARRANTIES OF MERCHANTABILITY,\n",
    "FITNESS FOR A PARTICULAR PURPOSE AND NONINFRINGEMENT. IN NO EVENT SHALL THE\n",
    "AUTHORS OR COPYRIGHT HOLDERS BE LIABLE FOR ANY CLAIM, DAMAGES OR OTHER\n",
    "LIABILITY, WHETHER IN AN ACTION OF CONTRACT, TORT OR OTHERWISE, ARISING FROM,\n",
    "OUT OF OR IN CONNECTION WITH THE SOFTWARE OR THE USE OR OTHER DEALINGS IN THE\n",
    "SOFTWARE.\n",
    "-->\n",
    "\n",
    "# Paypal Payment tracker\n",
    "This Notebook allows you to input the raw html data from your Paypal Payments site and \n",
    "analyze it in any way you would like.\n",
    "\n",
    "To use this yourself, simply copy the html data from your \n",
    "[Paypal transaction](https://www.paypal.com/myaccount/transactions/) page into ``payments.html`` and run all cells.\n",
    "This notebook is fully offline and no data ever leaves your computer.\n",
    "\n",
    "[BeautifulSoup](https://www.crummy.com/software/BeautifulSoup/) library is used for  HTML Parsing, while all visualization\n",
    "is done using [Matplotlib](https://matplotlib.org/)."
   ]
  },
  {
   "cell_type": "code",
   "execution_count": 1,
   "outputs": [
    {
     "name": "stdout",
     "text": [
      "Loaded html data from payments.html\n",
      "Found a total of 2 transactions\n"
     ],
     "output_type": "stream"
    }
   ],
   "source": [
    "from bs4 import BeautifulSoup\n",
    "\n",
    "file_name = \"payments.html\"\n",
    "html_data = open(file_name, \"r\", encoding=\"UTF8\").read()\n",
    "table_soup = BeautifulSoup(html_data, \"html.parser\")\n",
    "transactions = table_soup.findAll(\"div\", {\"class\": \"transactionDescriptionContainer\"})\n",
    "print(f\"Loaded html data from {file_name}\")\n",
    "print(f'Found a total of {len(transactions)} transactions')"
   ],
   "metadata": {
    "collapsed": false,
    "pycharm": {
     "name": "#%%\n",
     "is_executing": false
    }
   }
  },
  {
   "cell_type": "markdown",
   "source": [
    "The first plot shows all transactions on a linear timeline. The next plot show the same data\n",
    "but split up for every month."
   ],
   "metadata": {
    "collapsed": false,
    "pycharm": {
     "name": "#%% md\n"
    }
   }
  },
  {
   "cell_type": "code",
   "execution_count": 2,
   "outputs": [
    {
     "data": {
      "text/plain": "<Figure size 432x288 with 1 Axes>",
      "image/png": "[encoded data removed]"
     },
     "metadata": {
      "needs_background": "light"
     },
     "output_type": "display_data"
    }
   ],
   "source": [
    "from matplotlib import pyplot as plt\n",
    "import matplotlib.dates as mdates\n",
    "from transaction_utils import get_transaction_data\n",
    "\n",
    "transaction_data = list(map(get_transaction_data, transactions))\n",
    "dates = [date for _, _, date in transaction_data]\n",
    "amounts = [amount for _, amount, _ in transaction_data]\n",
    "\n",
    "plt.gca().xaxis.set_major_formatter(mdates.DateFormatter('%Y-%m-%d'))\n",
    "plt.gca().xaxis.set_major_locator(mdates.DayLocator(interval=20))\n",
    "plt.bar(dates, amounts, width=3)\n",
    "plt.gcf().autofmt_xdate()\n",
    "plt.show()"
   ],
   "metadata": {
    "collapsed": false,
    "pycharm": {
     "name": "#%%\n",
     "is_executing": false
    }
   }
  },
  {
   "cell_type": "code",
   "execution_count": 3,
   "outputs": [
    {
     "data": {
      "text/plain": "<Figure size 432x288 with 1 Axes>",
      "image/png": "[encoded data removed]"
     },
     "metadata": {
      "needs_background": "light"
     },
     "output_type": "display_data"
    }
   ],
   "source": [
    "from functools import reduce\n",
    "\n",
    "transaction_every_month = {i: [] for i in range(1,13)}\n",
    "for (name, amount, date) in transaction_data:\n",
    "    transaction_every_month[date.month].append((name, amount, date))\n",
    "\n",
    "monthly_sums = {\n",
    "    month: reduce(lambda a,b: a + b[1], transactions_in_month, 0)\n",
    "    for month, transactions_in_month in transaction_every_month.items()\n",
    "}\n",
    "\n",
    "plt.bar(range(1,13), list(monthly_sums.values()))\n",
    "plt.show()"
   ],
   "metadata": {
    "collapsed": false,
    "pycharm": {
     "name": "#%%\n",
     "is_executing": false
    }
   }
  },
  {
   "cell_type": "markdown",
   "source": [
    "__Overview of expenditures:__"
   ],
   "metadata": {
    "collapsed": false,
    "pycharm": {
     "name": "#%% md\n"
    }
   }
  },
  {
   "cell_type": "code",
   "execution_count": 4,
   "outputs": [
    {
     "name": "stdout",
     "text": [
      "You spent a total of 34.87€ in 116 days\n",
      "That's an average of 0.30€ per day or 9.32€ per month\n"
     ],
     "output_type": "stream"
    }
   ],
   "source": [
    "total = sum(amounts)\n",
    "sorted_dates = sorted(dates)\n",
    "amount_days = (sorted_dates[-1] - sorted_dates[0] ).days\n",
    "amount_per_day = total / amount_days\n",
    "\n",
    "print(f\"You spent a total of {-total:.2f}€ in {amount_days} days\")\n",
    "print(f\"That's an average of {-amount_per_day:.2f}€ per day or {-amount_per_day*31:.2f}€ per month\")"
   ],
   "metadata": {
    "collapsed": false,
    "pycharm": {
     "name": "#%%\n",
     "is_executing": false
    }
   }
  },
  {
   "cell_type": "code",
   "execution_count": 5,
   "outputs": [
    {
     "name": "stdout",
     "text": [
      "You spent a total of 19.28€ on food\n"
     ],
     "output_type": "stream"
    }
   ],
   "source": [
    "def is_food_name(name):\n",
    "    food_names = [\"REWE\", \"EDEKA\", \"denn\"]\n",
    "    return any([food_name in name for food_name in food_names])\n",
    "\n",
    "total_for_food = sum([amount for name, amount, _ in transaction_data if is_food_name(name)])\n",
    "\n",
    "print(f\"You spent a total of {-total_for_food:.2f}€ on food\")"
   ],
   "metadata": {
    "collapsed": false,
    "pycharm": {
     "name": "#%%\n",
     "is_executing": false
    }
   }
  },
  {
   "cell_type": "code",
   "execution_count": 6,
   "outputs": [
    {
     "name": "stdout",
     "text": [
      "An average of 116.00 days passed between purchases with a max of 116 days\n",
      "You made an average of 0.02 transactions per day\n"
     ],
     "output_type": "stream"
    }
   ],
   "source": [
    "from statistics import mean\n",
    "\n",
    "times_between_purchases = [\n",
    "    (sorted_dates[ i+1] -sorted_dates[i]).days for i in range(len(sorted_dates)-1)\n",
    "]\n",
    "average_time_between_purchases = mean(times_between_purchases) \n",
    "\n",
    "print(f\"An average of {average_time_between_purchases:.2f} days passed between purchases with a max of {max(times_between_purchases)} days\")\n",
    "print(f\"You made an average of {len(transactions) / amount_days:.2f} transactions per day\")"
   ],
   "metadata": {
    "collapsed": false,
    "pycharm": {
     "name": "#%%\n",
     "is_executing": false
    }
   }
  },
  {
   "cell_type": "markdown",
   "source": [
    "__The following plots show a pie diagram of all places where money was spent and how much of all spending was done there.\n",
    " The second one only shows those >100€. All others are grouped into the categorie \"others.\"__"
   ],
   "metadata": {
    "collapsed": false,
    "pycharm": {
     "name": "#%% md\n"
    }
   }
  },
  {
   "cell_type": "code",
   "execution_count": 7,
   "outputs": [
    {
     "data": {
      "text/plain": "<Figure size 432x288 with 1 Axes>",
      "image/png": "[encoded data removed]"
     },
     "metadata": {},
     "output_type": "display_data"
    }
   ],
   "source": [
    "transaction_per_shop = dict.fromkeys([name for name,_,_ in transaction_data], 0.0)\n",
    "for name, amount, _ in transaction_data:\n",
    "    transaction_per_shop[name] -= amount\n",
    "\n",
    "plt.pie(list(transaction_per_shop.values()),\n",
    "        labels=list(transaction_per_shop.keys()),\n",
    "        explode=[0.01]*len(transaction_per_shop),\n",
    "        radius=3)\n",
    "plt.show()"
   ],
   "metadata": {
    "collapsed": false,
    "pycharm": {
     "name": "#%%\n",
     "is_executing": false
    }
   }
  },
  {
   "cell_type": "code",
   "execution_count": 8,
   "outputs": [
    {
     "data": {
      "text/plain": "<Figure size 432x288 with 1 Axes>",
      "image/png": "[encoded data removed]"
     },
     "metadata": {},
     "output_type": "display_data"
    }
   ],
   "source": [
    "transaction_per_shop_over_100 = {\"other\": 0}\n",
    "for name, value in transaction_per_shop.items():\n",
    "    if value > 100:\n",
    "        transaction_per_shop_over_100[name] = value\n",
    "    else:\n",
    "        transaction_per_shop_over_100[\"other\"] += value\n",
    "\n",
    "plt.pie(list(transaction_per_shop_over_100.values()),\n",
    "        labels=list(transaction_per_shop_over_100.keys()),\n",
    "        explode=[0.01]*len(transaction_per_shop_over_100),\n",
    "        radius=3)\n",
    "plt.show()\n"
   ],
   "metadata": {
    "collapsed": false,
    "pycharm": {
     "name": "#%%\n",
     "is_executing": false
    }
   }
  }
 ],
 "metadata": {
  "kernelspec": {
   "display_name": "Python 3",
   "language": "python",
   "name": "python3"
  },
  "language_info": {
   "codemirror_mode": {
    "name": "ipython",
    "version": 2
   },
   "file_extension": ".py",
   "mimetype": "text/x-python",
   "name": "python",
   "nbconvert_exporter": "python",
   "pygments_lexer": "ipython2",
   "version": "2.7.6"
  },
  "pycharm": {
   "stem_cell": {
    "cell_type": "raw",
    "source": [],
    "metadata": {
     "collapsed": false
    }
   }
  }
 },
 "nbformat": 4,
 "nbformat_minor": 0
}